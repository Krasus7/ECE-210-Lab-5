{
 "cells": [
  {
   "cell_type": "markdown",
   "metadata": {},
   "source": [
    "Lab 5 is a lab based on Jupyter notebook which gives you step-by-step access to python code. Each time you excute the cell, the code is updated. To excute a cell, selet the cell and press \"Enter+Shift\". Most of the code are not required any change but some of them are required to excute multiple times or you will have to enter some parameters before excuting. To learn more about Jupyter notebook, please see the link below. \n"
   ]
  },
  {
   "cell_type": "markdown",
   "metadata": {},
   "source": [
    "https://jupyter-notebook.readthedocs.io/en/stable/notebook.html"
   ]
  },
  {
   "cell_type": "markdown",
   "metadata": {},
   "source": [
    "For your\n",
    "conveninence, all the questions are written in bold font with number in front of them."
   ]
  },
  {
   "cell_type": "code",
   "execution_count": null,
   "metadata": {
    "collapsed": false
   },
   "outputs": [],
   "source": [
    "%pylab inline\n",
    "import lab5\n",
    "from scipy.io import wavfile"
   ]
  },
  {
   "cell_type": "markdown",
   "metadata": {},
   "source": [
    "# 1.Sampling and Reconstruction \n",
    "In this section, you will observe a real system much like the one you studied in the prelab exercises. The lab also will illustrate the phenomenon of aliasing which occurs when the input is under-sampled. "
   ]
  },
  {
   "cell_type": "markdown",
   "metadata": {},
   "source": [
    "<img src=\"system_diagram.png\" width=\"600\">"
   ]
  },
  {
   "cell_type": "markdown",
   "metadata": {},
   "source": [
    "Input signal  $f(t)$ is first sampled at 44100 Hz and the sampled signal $f(nT)$ is then fed into the system to generate output $y(t)$. There are some choices of the system, in the first part, we will simply choose \"No processing\" in order to observe the sampled signal $f(nT)$"
   ]
  },
  {
   "cell_type": "code",
   "execution_count": null,
   "metadata": {
    "collapsed": true
   },
   "outputs": [],
   "source": [
    "# No change here\n",
    "system_option = \"No processing\""
   ]
  },
  {
   "cell_type": "markdown",
   "metadata": {},
   "source": [
    "Let's first generate the input signal $f(t)$. You will be using the provided functions to create a cosine function with frequency of your choice. "
   ]
  },
  {
   "cell_type": "markdown",
   "metadata": {},
   "source": [
    "Let's create a cosine function with frequency of 2 kHz"
   ]
  },
  {
   "cell_type": "markdown",
   "metadata": {},
   "source": [
    "Input the desired frequency for testing signal in the next cell.  "
   ]
  },
  {
   "cell_type": "code",
   "execution_count": null,
   "metadata": {
    "collapsed": true
   },
   "outputs": [],
   "source": [
    "f =1000   # Hz, fill the number 2000 here and excute this cell "
   ]
  },
  {
   "cell_type": "code",
   "execution_count": null,
   "metadata": {
    "collapsed": false
   },
   "outputs": [],
   "source": [
    "# No change here\n",
    "f_t = lab5.create_input(f)\n",
    "f_nT = lab5.sampling(f_t)\n",
    "y_t = lab5.system_output(f_nT,Processing=system_option)\n",
    "figure(figsize=(16,8))\n",
    "subplot(2,2,1)\n",
    "lab5.input_display(f_t)\n",
    "subplot(2,2,2)\n",
    "lab5.time_domain_display_input(f_nT)\n",
    "subplot(2,2,3)\n",
    "lab5.time_domain_display_output(y_t,mode=\"fine tuned\")\n",
    "subplot(2,2,4) \n",
    "lab5.freq_domain_display(f_nT)\n",
    "tight_layout()"
   ]
  },
  {
   "cell_type": "markdown",
   "metadata": {},
   "source": [
    "### 1.1 Describe what you see in time domain of the sampled input signal (top right plot)"
   ]
  },
  {
   "cell_type": "markdown",
   "metadata": {},
   "source": [
    "### 1.2 Describe what you see in frequency domain of the ouput (bottom right plot)"
   ]
  },
  {
   "cell_type": "markdown",
   "metadata": {},
   "source": [
    "Try different input frequency from 2 kHz to 20 kHz. To do this, input the desired frequency in the next cell and excute the next two cells to see the updated plots. You may have to repeat this process multiple times in order to observe different frequency. "
   ]
  },
  {
   "cell_type": "code",
   "execution_count": null,
   "metadata": {
    "collapsed": true
   },
   "outputs": [],
   "source": [
    "f =   # Hz "
   ]
  },
  {
   "cell_type": "code",
   "execution_count": null,
   "metadata": {
    "collapsed": false
   },
   "outputs": [],
   "source": [
    "# No change here\n",
    "f_t = lab5.create_input(f)\n",
    "f_nT = lab5.sampling(f_t)\n",
    "y_t = lab5.system_output(f_nT)\n",
    "figure(figsize=(16,8))\n",
    "subplot(2,2,1)\n",
    "lab5.input_display(f_t)\n",
    "subplot(2,2,2)\n",
    "lab5.time_domain_display_input(f_nT)\n",
    "subplot(2,2,3)\n",
    "lab5.time_domain_display_output(y_t,mode=\"fine tuned\")\n",
    "subplot(2,2,4) \n",
    "lab5.freq_domain_display(f_nT)\n",
    "tight_layout()"
   ]
  },
  {
   "cell_type": "markdown",
   "metadata": {},
   "source": [
    "### 1.3 Does the output $y(t)$ look like a perfect reconstruction of the input signal $x(t)$ ? If not, then explain the difference. "
   ]
  },
  {
   "cell_type": "markdown",
   "metadata": {},
   "source": [
    "Now try different frequency from 20 kHz to 24 kHz but including 22.05 kHz"
   ]
  },
  {
   "cell_type": "code",
   "execution_count": null,
   "metadata": {
    "collapsed": true
   },
   "outputs": [],
   "source": [
    "f =   # Hz "
   ]
  },
  {
   "cell_type": "code",
   "execution_count": null,
   "metadata": {
    "collapsed": true
   },
   "outputs": [],
   "source": [
    "# No change here\n",
    "f_t = lab5.create_input(f)\n",
    "f_nT = lab5.sampling(f_t)\n",
    "y_t = lab5.system_output(f_nT)\n",
    "figure(figsize=(16,8))\n",
    "subplot(2,2,1)\n",
    "lab5.input_display(f_t)\n",
    "subplot(2,2,2)\n",
    "lab5.time_domain_display_input(f_nT)\n",
    "subplot(2,2,3)\n",
    "lab5.time_domain_display_output(y_t,mode=\"fine tuned\")\n",
    "subplot(2,2,4) \n",
    "lab5.freq_domain_display(f_nT)\n",
    "tight_layout()"
   ]
  },
  {
   "cell_type": "markdown",
   "metadata": {},
   "source": [
    "### 1.4 Describe what happens to the output signal in the time and frequency domain "
   ]
  },
  {
   "cell_type": "markdown",
   "metadata": {},
   "source": [
    "### 1.5 At 24 kHz, does the output look like a perfect reconstruction or do we have an aliased component ? "
   ]
  },
  {
   "cell_type": "markdown",
   "metadata": {},
   "source": [
    "### 1.6 What is the significance of the frequency 22.05 kHz ? Remember the sampling rate is 44100 Hz."
   ]
  },
  {
   "cell_type": "markdown",
   "metadata": {},
   "source": [
    "### 1.7 Finally increase the input frequency from 24 to 30 kHz. What do you observe ? Explain what is happening. "
   ]
  },
  {
   "cell_type": "markdown",
   "metadata": {},
   "source": [
    "# 2. Digital Filtering"
   ]
  },
  {
   "cell_type": "markdown",
   "metadata": {},
   "source": [
    "In this section, you will examine the digital fitler option of the given system. System option is set to \"IF Filter\""
   ]
  },
  {
   "cell_type": "code",
   "execution_count": null,
   "metadata": {
    "collapsed": true
   },
   "outputs": [],
   "source": [
    "# No change here\n",
    "system_option = \"IF Filter\""
   ]
  },
  {
   "cell_type": "markdown",
   "metadata": {},
   "source": [
    "To apply a IF band pass filter, let's first create a band pass filter and you may observe its frequency response using fucntion lab5.freq_response(), which is provided in the cells below. The default cutoff frequencies are 6 kHz and 9 kHz, feel free to change the parameters fc_low and fc_high to see different frequency response."
   ]
  },
  {
   "cell_type": "code",
   "execution_count": null,
   "metadata": {
    "collapsed": true
   },
   "outputs": [],
   "source": [
    "fc_low = 6*1000 \n",
    "fc_high = 9*1000 \n",
    "taps = lab5.create_bandpass_filter(fc_low,fc_high)"
   ]
  },
  {
   "cell_type": "code",
   "execution_count": null,
   "metadata": {
    "collapsed": false
   },
   "outputs": [],
   "source": [
    "lab5.freq_response(taps)"
   ]
  },
  {
   "cell_type": "markdown",
   "metadata": {},
   "source": [
    "From this section, instead of creating the input signal, we will be using the recorded sampled signal for the sake of simplicity. Load the waveform of square wave with 1.5 kHz using the cell below"
   ]
  },
  {
   "cell_type": "code",
   "execution_count": null,
   "metadata": {
    "collapsed": true
   },
   "outputs": [],
   "source": [
    "# No change here\n",
    "file_path = \"/Users/Krasus/ECE210/Online_lab_developement/Lab4/\"\n",
    "fs, wave_test = wavfile.read(file_path+'square_1_5k.wav')\n",
    "audio_signal = wave_test/2**17"
   ]
  },
  {
   "cell_type": "markdown",
   "metadata": {},
   "source": [
    "Now we set the filter cutoff frequencies to its default setting (6 kHz and 9 kHz) and feed it to the system. "
   ]
  },
  {
   "cell_type": "code",
   "execution_count": null,
   "metadata": {
    "collapsed": false
   },
   "outputs": [],
   "source": [
    "# No change here\n",
    "fc_low = 6*1000 \n",
    "fc_high = 9*1000 \n",
    "taps = lab5.create_bandpass_filter(fc_low,fc_high)\n",
    "\n",
    "output = lab5.system_output(audio_signal,Processing=\"IF Filter\",impulse_response=taps)\n",
    "figure(figsize=(16,8))\n",
    "\n",
    "subplot(2,2,1)\n",
    "lab5.time_domain_display_input(audio_signal)\n",
    "subplot(2,2,2)\n",
    "lab5.freq_domain_display(audio_signal,\"dB\")\n",
    "title(\"System Input Magnitude vs Frequency (kHz)\")\n",
    "\n",
    "subplot(2,2,3)\n",
    "lab5.time_domain_display_output(output,\"fine tuned\")\n",
    "\n",
    "subplot(2,2,4) \n",
    "lab5.freq_domain_display(output,\"dB\")\n",
    "title(\"System Output Magnitude vs Frequency (kHz)\")\n",
    "\n",
    "tight_layout()"
   ]
  },
  {
   "cell_type": "markdown",
   "metadata": {},
   "source": [
    "### 2.1 What is the frequency of the output $y(t)$ ? "
   ]
  },
  {
   "cell_type": "markdown",
   "metadata": {},
   "source": [
    "### 2.2 Explain why do you have that output, when the input is a 1.5 kHz square wave. (Hint: Having in mind the analysis of the perodic square wave done in lab 3, recall that the input signal should consist on decreasing odd harmonics of the fundamental frequency.)"
   ]
  },
  {
   "cell_type": "markdown",
   "metadata": {},
   "source": [
    "Now the system option is set to \"No processing\", and the input signal is set to a square wave with frequency of 11 kHz."
   ]
  },
  {
   "cell_type": "code",
   "execution_count": null,
   "metadata": {
    "collapsed": false
   },
   "outputs": [],
   "source": [
    "# No change here\n",
    "system_option =  \"No processing\"\n",
    "fs, wave_test = wavfile.read(file_path+'square_11k.wav')\n",
    "audio_signal = wave_test/2**17\n",
    "output = lab5.system_output(audio_signal,Processing=\"No processing\")\n",
    "figure(figsize=(16,8))\n",
    "subplot(2,2,1)\n",
    "lab5.time_domain_display_input(audio_signal)\n",
    "subplot(2,2,2)\n",
    "lab5.freq_domain_display(audio_signal,\"dB\")\n",
    "title(\"System Input Magnitude vs Frequency (kHz)\")\n",
    "subplot(2,2,3)\n",
    "lab5.time_domain_display_output(output,\"fine tuned\")\n",
    "subplot(2,2,4) \n",
    "lab5.freq_domain_display(output,\"dB\")\n",
    "title(\"System Output Magnitude vs Frequency (kHz)\")\n",
    "tight_layout()"
   ]
  },
  {
   "cell_type": "markdown",
   "metadata": {},
   "source": [
    "### 2.3 Describe and explain what you obtain at the output. (Hint: What harmonic frequencies has the input signal now?)"
   ]
  },
  {
   "cell_type": "markdown",
   "metadata": {},
   "source": [
    "# 3. Receiving Synthetic AM"
   ]
  },
  {
   "cell_type": "markdown",
   "metadata": {},
   "source": [
    "Now we will load a synthetic AM signal and process it with our system. "
   ]
  },
  {
   "cell_type": "markdown",
   "metadata": {},
   "source": [
    "The system option is set to \"No processing\" and load the synthetic AM signal. "
   ]
  },
  {
   "cell_type": "code",
   "execution_count": null,
   "metadata": {
    "collapsed": true
   },
   "outputs": [],
   "source": [
    "# No change here\n",
    "system_option =  \"No processing\"\n",
    "fs, wave_test = wavfile.read(file_path+'AM_modulation.wav')\n",
    "audio_signal = wave_test/2**16"
   ]
  },
  {
   "cell_type": "code",
   "execution_count": null,
   "metadata": {
    "collapsed": false
   },
   "outputs": [],
   "source": [
    "# No change here\n",
    "output = lab5.system_output(audio_signal,Processing= system_option)\n",
    "figure(figsize=(16,8))\n",
    "subplot(2,2,1)\n",
    "lab5.time_domain_display_input(audio_signal)\n",
    "subplot(2,2,2)\n",
    "lab5.freq_domain_display(audio_signal,\"dB\")\n",
    "title(\"System Input Magnitude vs Frequency (kHz)\")\n",
    "subplot(2,2,3)\n",
    "lab5.time_domain_display_output(output)\n",
    "subplot(2,2,4) \n",
    "lab5.freq_domain_display(output,\"dB\")\n",
    "title(\"System Output Magnitude vs Frequency (kHz)\")\n",
    "grid(\"on\")\n",
    "tight_layout()"
   ]
  },
  {
   "cell_type": "markdown",
   "metadata": {},
   "source": [
    "### 3.1 What does the strong impulse at $f=13$ kHz represent in this AM signal. "
   ]
  },
  {
   "cell_type": "markdown",
   "metadata": {},
   "source": [
    "### 3.2 At what frequency locations are the other two impulses surrounding the 13 kHz impulse, and what do they represent ? "
   ]
  },
  {
   "cell_type": "markdown",
   "metadata": {},
   "source": [
    "Recall in lab 3, we built a band pass and filter using capacitor and resistors. This time we will implement the same band pass filter in digital domain with cutoff frequencies of 8 kHz and 18 kHz. "
   ]
  },
  {
   "cell_type": "code",
   "execution_count": null,
   "metadata": {
    "collapsed": false
   },
   "outputs": [],
   "source": [
    "# No change here\n",
    "fc_low = 8*1000 \n",
    "fc_high = 18*1000 \n",
    "taps = lab5.create_bandpass_filter(fc_low,fc_high)"
   ]
  },
  {
   "cell_type": "code",
   "execution_count": null,
   "metadata": {
    "collapsed": false
   },
   "outputs": [],
   "source": [
    "# No change here\n",
    "lab5.freq_response(taps)"
   ]
  },
  {
   "cell_type": "markdown",
   "metadata": {},
   "source": [
    "### 3.3 Compare the frequency response of the digital band pass filter with the frequency response of the analog band pass filter built in lab 3, which one is considered a better filter and why ? "
   ]
  },
  {
   "cell_type": "markdown",
   "metadata": {},
   "source": [
    "Now let's observe the output of a envelope detector after the IF fitler. The system option is set to \"IF Filter+Envelope Detector\". "
   ]
  },
  {
   "cell_type": "code",
   "execution_count": null,
   "metadata": {
    "collapsed": true
   },
   "outputs": [],
   "source": [
    "# No change here\n",
    "system_option=\"IF Filter+Envelope Detector\""
   ]
  },
  {
   "cell_type": "code",
   "execution_count": null,
   "metadata": {
    "collapsed": false
   },
   "outputs": [],
   "source": [
    "# No change here\n",
    "output = lab5.system_output(audio_signal,Processing=system_option,impulse_response=taps)\n",
    "figure(figsize=(16,8))\n",
    "subplot(2,2,1)\n",
    "lab5.time_domain_display_input(audio_signal)\n",
    "subplot(2,2,2)\n",
    "lab5.freq_domain_display(audio_signal,\"dB\")\n",
    "title(\"System Input Magnitude vs Frequency (kHz)\")\n",
    "subplot(2,2,3)\n",
    "lab5.time_domain_display_output(output)\n",
    "subplot(2,2,4) \n",
    "lab5.freq_domain_display(output,\"dB\")\n",
    "title(\"System Output Magnitude vs Frequency (kHz)\")\n",
    "tight_layout()"
   ]
  },
  {
   "cell_type": "markdown",
   "metadata": {},
   "source": [
    "### 3.4 In the time domain, what type of signal is that. Describe it. And in the frequency domain, can you find the message signal ? "
   ]
  },
  {
   "cell_type": "markdown",
   "metadata": {},
   "source": [
    "Besides envelope detector, there is another type called coherent detector. A coherent detector works as follows. For a received signal of the form $m(t)\\cos(\\omega_c t+\\theta_0)$, the carrier frequency $\\omega_c$ and the pase delay $\\theta_0$ are estimated. THen a cosine signal with the same carrier frequency and phase delay is generated and mixed with the received signal, yielding $m(t)\\cos(\\omega_c t+\\theta_0)\\cos(\\omega_c t+\\theta_0)=m(t)\\cos^2(\\omega_c t+\\theta_0)=\\frac{1}{2}m(t)(1+\\cos(2\\omega_c t))$. Finally a lowpass filter is applied to filter out the $2\\omega_c$ modulated signal in order to obtain the message $m(t)$."
   ]
  },
  {
   "cell_type": "markdown",
   "metadata": {},
   "source": [
    "Now the system option is set to \"IF Filter+Coherent Detector\""
   ]
  },
  {
   "cell_type": "code",
   "execution_count": null,
   "metadata": {
    "collapsed": true
   },
   "outputs": [],
   "source": [
    "# No change here\n",
    "system_option=\"IF Filter+Envelope Detector\""
   ]
  },
  {
   "cell_type": "code",
   "execution_count": null,
   "metadata": {
    "collapsed": false
   },
   "outputs": [],
   "source": [
    "# No change here\n",
    "output = lab5.system_output(audio_signal,Processing=\"IF Filter+Envelope Detector\",impulse_response=taps)\n",
    "figure(figsize=(16,8))\n",
    "subplot(2,2,1)\n",
    "lab5.time_domain_display_input(audio_signal)\n",
    "subplot(2,2,2)\n",
    "lab5.freq_domain_display(audio_signal,\"dB\")\n",
    "title(\"System Input Magnitude vs Frequency (kHz)\")\n",
    "subplot(2,2,3)\n",
    "lab5.time_domain_display_output(output)\n",
    "subplot(2,2,4) \n",
    "lab5.freq_domain_display(output,\"dB\")\n",
    "title(\"System Output Magnitude vs Frequency (kHz)\")\n",
    "tight_layout()"
   ]
  },
  {
   "cell_type": "markdown",
   "metadata": {},
   "source": [
    "### 3.5 Overall, what does the envelope detector or the coherent detector accomplish ? "
   ]
  },
  {
   "cell_type": "markdown",
   "metadata": {},
   "source": [
    "# 4.Receiving recorded AM "
   ]
  },
  {
   "cell_type": "markdown",
   "metadata": {},
   "source": [
    "In this last section, you will process the recorded AM signal with out system and eventually listen to its detected version. "
   ]
  },
  {
   "cell_type": "markdown",
   "metadata": {},
   "source": [
    "Load the same recorded file as in lab 4, and the system option is set to \"IF Filter\". The band pass filter has cutoff frequencies of 10 kHz and 18 kHz.  "
   ]
  },
  {
   "cell_type": "code",
   "execution_count": null,
   "metadata": {
    "collapsed": true
   },
   "outputs": [],
   "source": [
    "# No change here\n",
    "fs, wave_test = wavfile.read(file_path+'zenzenzense_modulated2.wav')\n",
    "audio_signal = wave_test/2**16\n",
    "system_option=\"IF Filter\"\n",
    "fc_low = 10*1000 \n",
    "fc_high = 18*1000 \n",
    "taps = lab5.create_bandpass_filter(fc_low,fc_high)"
   ]
  },
  {
   "cell_type": "code",
   "execution_count": null,
   "metadata": {
    "collapsed": false
   },
   "outputs": [],
   "source": [
    "# No change here\n",
    "lab5.freq_response(taps)"
   ]
  },
  {
   "cell_type": "code",
   "execution_count": null,
   "metadata": {
    "collapsed": false
   },
   "outputs": [],
   "source": [
    "# No change here\n",
    "output = lab5.system_output(audio_signal,Processing=system_option,impulse_response=taps)\n",
    "figure(figsize=(16,8))\n",
    "subplot(2,2,1)\n",
    "lab5.time_domain_display_input(audio_signal)\n",
    "subplot(2,2,2)\n",
    "lab5.freq_domain_display(audio_signal,\"dB\")\n",
    "title(\"System Input Magnitude vs Frequency (kHz)\")\n",
    "subplot(2,2,3)\n",
    "lab5.time_domain_display_output(output)\n",
    "subplot(2,2,4) \n",
    "lab5.freq_domain_display(output,\"dB\")\n",
    "title(\"System Output Magnitude vs Frequency (kHz)\")\n",
    "tight_layout()"
   ]
  },
  {
   "cell_type": "markdown",
   "metadata": {},
   "source": [
    "### 4.1 In the spectrum of input, what is the frequency of the peak and what does it represent ? "
   ]
  },
  {
   "cell_type": "markdown",
   "metadata": {},
   "source": [
    "### 4.2 Approximately what is the bandwidth of the output signal ? Does it align with the frequency response of the band pass filter ? "
   ]
  },
  {
   "cell_type": "markdown",
   "metadata": {},
   "source": [
    "Now let's add envelope detector to the system. The system option is set to \"IF Filter+Envelope Detector\" while keep all band pass filter the same. "
   ]
  },
  {
   "cell_type": "code",
   "execution_count": null,
   "metadata": {
    "collapsed": true
   },
   "outputs": [],
   "source": [
    "# No change here\n",
    "system_option=\"IF Filter+Envelope Detector\""
   ]
  },
  {
   "cell_type": "code",
   "execution_count": null,
   "metadata": {
    "collapsed": false
   },
   "outputs": [],
   "source": [
    "# No change here\n",
    "output = lab5.system_output(audio_signal,Processing=\"IF Filter+Envelope Detector\",impulse_response=taps)\n",
    "figure(figsize=(16,8))\n",
    "subplot(2,2,1)\n",
    "lab5.time_domain_display_input(audio_signal)\n",
    "subplot(2,2,2)\n",
    "lab5.freq_domain_display(audio_signal,\"dB\")\n",
    "title(\"System Input Magnitude vs Frequency (kHz)\")\n",
    "subplot(2,2,3)\n",
    "lab5.time_domain_display_output(output)\n",
    "subplot(2,2,4) \n",
    "lab5.freq_domain_display(output,\"dB\")\n",
    "title(\"System Output Magnitude vs Frequency (kHz)\")\n",
    "tight_layout()"
   ]
  },
  {
   "cell_type": "markdown",
   "metadata": {},
   "source": [
    "### 4.3 Is the message signal bandlimited ? If so, what is the estimated range ? (Hint: At what frequency, the message signal seems to be disappear)"
   ]
  },
  {
   "cell_type": "markdown",
   "metadata": {},
   "source": [
    "You may varify the result above by listening to the output signal. To do that, you may use the next cell to write the output signal into .wav file and then download it and play at your local computer. "
   ]
  },
  {
   "cell_type": "code",
   "execution_count": null,
   "metadata": {
    "collapsed": true
   },
   "outputs": [],
   "source": [
    "wavfile.write(\"demodulated_signal.wav\", fs, output)"
   ]
  },
  {
   "cell_type": "markdown",
   "metadata": {},
   "source": [
    "### 4.4 Did you successfully demodulate the AM signal ? How was it compare to the one you did with circuit ?  Explain the advantage of digital filter. "
   ]
  },
  {
   "cell_type": "code",
   "execution_count": null,
   "metadata": {
    "collapsed": true
   },
   "outputs": [],
   "source": []
  }
 ],
 "metadata": {
  "kernelspec": {
   "display_name": "Python 3",
   "language": "python",
   "name": "python3"
  },
  "language_info": {
   "codemirror_mode": {
    "name": "ipython",
    "version": 3
   },
   "file_extension": ".py",
   "mimetype": "text/x-python",
   "name": "python",
   "nbconvert_exporter": "python",
   "pygments_lexer": "ipython3",
   "version": "3.6.1"
  }
 },
 "nbformat": 4,
 "nbformat_minor": 0
}
