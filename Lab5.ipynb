{
 "cells": [
  {
   "cell_type": "markdown",
   "metadata": {},
   "source": [
    "Lab 5 is a lab based on Jupyter notebook which gives you step-by-step access to python code. Each time you excute the cell, the code is updated. To excute a cell, selete the cell and press \"Enter+Shift\". Most of the code are not required any change. Some of them are required to excute multiple times and some of them require entering parameters before excuting. To learn more about Jupyter notebook, please see the link below. "
   ]
  },
  {
   "cell_type": "markdown",
   "metadata": {},
   "source": [
    "https://jupyter-notebook.readthedocs.io/en/stable/notebook.html"
   ]
  },
  {
   "cell_type": "markdown",
   "metadata": {},
   "source": [
    "For your conveninence, all the questions are written in bold font with number in front of them. You will write down your answers in the lab5.pdf. "
   ]
  },
  {
   "cell_type": "code",
   "execution_count": null,
   "metadata": {
    "collapsed": false
   },
   "outputs": [],
   "source": [
    "%pylab inline\n",
    "from scipy.io import wavfile\n",
    "from scipy.signal import butter, lfilter, freqz,firwin"
   ]
  },
  {
   "cell_type": "markdown",
   "metadata": {},
   "source": [
    "Here are the functions that are used in this lab. Understanding the code is beyond the scope of this course and changing the code is not necessary to finish this lab, but you are welcome to make a change in order to observe the result better. You may always re-download the code from the course website to reset the changings. "
   ]
  },
  {
   "cell_type": "code",
   "execution_count": null,
   "metadata": {
    "collapsed": false
   },
   "outputs": [],
   "source": [
    "# define contants\n",
    "fs = 44100.0 # Sampling rate used in computer, Hz\n",
    "fs_high = 44100*10 # high sampling rate \n",
    "T = 0.1\n",
    "nyq_rate = fs/2\n",
    "time_display = 1 #ms \n",
    "\n",
    "\n",
    "# Utilities function \n",
    "def sampling(test_signal):\n",
    "    # downsampling function by factor of 10 \n",
    "    signal_sampled = test_signal[::10]\n",
    "    return signal_sampled\n",
    "\n",
    "def create_sinusoid(f,fs=fs_high,T=T):\n",
    "    # create sinusoid function of given frequency and time duration \n",
    "    t = linspace(0,T,T*fs) \n",
    "    test_signal = cos(2*pi*f*t)*0.2\n",
    "    return test_signal\n",
    "\n",
    "def create_square(f,fs=fs_high,T=T):\n",
    "    # create square function of given frequency and time duration \n",
    "    t = np.linspace(0, T, T*fs, endpoint=False)\n",
    "    x = cos(2*pi*f*t)*0.2\n",
    "    test_signal=sign(x)    \n",
    "    return test_signal\n",
    "\n",
    "def create_AM(f_c=13000,f_m=880,fs=fs_high,T=T):\n",
    "    # create AM signal of given carrier frequency f_c and time duration, assuming message is sine with frequency of f_m \n",
    "    t = linspace(0, T, T*fs, endpoint=False)\n",
    "    test_signal = sin(2*pi * f_c * t)*(sin(2*pi * f_m * t)+2)\n",
    "    return test_signal\n",
    "\n",
    "def create_bandpass_filter(fc_low,fc_high):\n",
    "    # create bandpass filter at given cutoff frequencies, the order is default to be 127\n",
    "    cutoff_hz = array([fc_low,fc_high])\n",
    "    n = 127\n",
    "    taps = firwin(n,cutoff_hz/nyq_rate,pass_zero=False)\n",
    "    return taps\n",
    "\n",
    "\n",
    "def low_pass_filter(cut_off):\n",
    "    # return impulse response of a low pass filter with given cut off frequency\n",
    "    fc_low = cut_off\n",
    "    cutoff_hz = array([fc_low])\n",
    "    n = 127\n",
    "    taps_lpf = firwin(n,cutoff_hz/nyq_rate)\n",
    "    return taps_lpf\n",
    "\n",
    "def Envelope_Detector(f):\n",
    "    # return output of an envelope dector with given input\n",
    "    f_abs = abs(f)\n",
    "    cut_off = 4e3\n",
    "    taps_lpf = low_pass_filter(cut_off)\n",
    "    y_envelope = convolve(f_abs,taps_lpf)\n",
    "    return y_envelope\n",
    "\n",
    "def Coherent_Detector(f):\n",
    "    # return output of an envelope dector with given input\n",
    "    L = len(f)\n",
    "    t = linspace(0,L/fs,L)\n",
    "    fft_len = 2**16\n",
    "    \n",
    "    if L > fft_len:\n",
    "        f_fft = abs(fft.fft(f,fft_len))\n",
    "        carrier_freq = argmax(f_fft[:int(fft_len/2)])/fft_len*fs\n",
    "    else :\n",
    "        \n",
    "        f_fft = abs(fft.fft(f,L))\n",
    "        carrier_freq = argmax(f_fft[:int(L/2)])/L*fs\n",
    "    f_demod = f*sin(carrier_freq*2*pi*t)\n",
    "    cut_off = 4e3\n",
    "    taps_lpf = low_pass_filter(cut_off)\n",
    "    y_coherent = convolve(f_demod,taps_lpf)\n",
    "    return y_coherent\n",
    "\n",
    "\n",
    "#Display auxiliary function \n",
    "def freq_response(impulse_response):\n",
    "    # show frequency response of given impulse response\n",
    "    w, h = freqz(impulse_response, worN=8000)\n",
    "    plot((w/pi)*nyq_rate/1000, (abs(h)), linewidth=2)\n",
    "    xlabel(\"Frequency / kHz\")\n",
    "    ylabel(\"Magnitude / rms\")\n",
    "    title(\"Filter frequency response\")    \n",
    "    \n",
    "    \n",
    "def time_domain_display_stem(test_signal):\n",
    "    # create stem for given time display interval, assuming low sampling rate\n",
    "    test_signal = roll(test_signal,200)\n",
    "    npts_display = round(time_display*fs/1000)    \n",
    "    t_axis = linspace(0,time_display,npts_display)\n",
    "    stem(t_axis,test_signal[:npts_display])\n",
    "    xlabel(\"Time / ms\")\n",
    "    ylabel(\"Amplitude\")\n",
    "    \n",
    "def time_domain_display_plot(test_signal):\n",
    "    # create plot for given time display interval, assuming high sampling rate\n",
    "    test_signal = roll(test_signal,2000)\n",
    "    npts_display = round(time_display*fs_high/1000)    \n",
    "    t_axis = linspace(0,time_display,npts_display)\n",
    "    plot(t_axis,test_signal[:npts_display])\n",
    "    xlabel(\"Time / ms\")\n",
    "    ylabel(\"Amplitude\")\n",
    "    \n",
    "def freq_domain_display(test_signal,unit=\"rms\"):\n",
    "    # create Fourier transform spectrum for positive frequency, assuming low sampling rate\n",
    "    npts_display = int(len(test_signal)/2)\n",
    "    \n",
    "    if npts_display  >2**15:\n",
    "        npts_display = 2**15\n",
    "    \n",
    "\n",
    "    y_fft = fft.fft(test_signal,npts_display*2)\n",
    "    \n",
    "    freq_display = fs/2/1000\n",
    "    freq_axis = linspace(0,freq_display,npts_display)\n",
    "    if unit == \"rms\":\n",
    "        plot(freq_axis,abs(y_fft)[:npts_display])\n",
    "        ylabel(\"Magnitude / rms\")\n",
    "    else :\n",
    "        plot(freq_axis,20*log10(abs(y_fft)[:npts_display]))\n",
    "        ylabel(\"Magnitude / dB\")\n",
    "    xlabel(\"Frequency / kHz\")\n",
    "    title(\"Magnitude vs Frequency (kHz)\")"
   ]
  },
  {
   "cell_type": "markdown",
   "metadata": {},
   "source": [
    "# 1. Downsampling and aliasing"
   ]
  },
  {
   "cell_type": "markdown",
   "metadata": {},
   "source": [
    "In reality, the computer can only process the digital signal. However,  we saw the continuous Fourier transform plot shown in Scopy in previous labs as if they were continuous signal. The  continuous spectrum is actually a collection of dense discrete points rather than the analog signal. The next example will demonstrate how the plot deceive our eyes. "
   ]
  },
  {
   "cell_type": "markdown",
   "metadata": {},
   "source": [
    "In Python, there are many ways to display data. We can either display a continuous curve using function \"plot\" or we can just display its sample points using function \"stem\". We will create a sinusoid wave and display using both function to make a comparison. "
   ]
  },
  {
   "cell_type": "code",
   "execution_count": null,
   "metadata": {
    "collapsed": false
   },
   "outputs": [],
   "source": [
    "t = linspace(0,1,100)\n",
    "f_t = sin(2*pi*t*5)\n",
    "subplot(2,1,1)\n",
    "stem(f_t)\n",
    "title(\"stem display\")\n",
    "subplot(2,1,2)\n",
    "plot(f_t)\n",
    "title(\"plot display\")\n",
    "tight_layout()"
   ]
  },
  {
   "cell_type": "markdown",
   "metadata": {},
   "source": [
    "As you see above, the same discrete signal can be displayed differently using various functions. The \"plot\" function is often used when the trending of signal is more interested while the \"stem\" function focuses on each individual sample. In this lab, in order to demonstrate the sampling effect using digital signal only, we will use 441000 Hz for high sampling rate and 44100 Hz for the normal sampling rate. The aliasing effect would still happen when the underlying frequency in the high sampling rate signal is higher than half of the sampling rate. "
   ]
  },
  {
   "cell_type": "markdown",
   "metadata": {},
   "source": [
    "We will use \"plot\" function when displaying the high sampling rate signal as if it were continuous signal, and use \"stem\" function to display the sampled signal. "
   ]
  },
  {
   "cell_type": "markdown",
   "metadata": {
    "collapsed": true
   },
   "source": [
    "<img src=\"system_diagram.png\" width=\"600\">"
   ]
  },
  {
   "cell_type": "markdown",
   "metadata": {
    "collapsed": true
   },
   "source": [
    "Input signal  $f(t)$ is first sampled at 44100 Hz and the sampled signal $f(nT)$ is then fed into the system to generate output $y(nt)$. The diagram here is a general system diagram for this lab, we will set the System as band pass filter, Envelope detector or even the combination of both. There are some other choices of the system, in the first part, we will simply choose \"No processing\" ($f(nT)=y(nT)$) in order to observe the sampled signal $f(nT)$"
   ]
  },
  {
   "cell_type": "markdown",
   "metadata": {},
   "source": [
    "Let's first generate the input signal $f(t)$. You will be using the provided functions to create a cosine function with frequency of your choice. "
   ]
  },
  {
   "cell_type": "markdown",
   "metadata": {},
   "source": [
    "Let's create a cosine function with frequency of 2 kHz"
   ]
  },
  {
   "cell_type": "markdown",
   "metadata": {},
   "source": [
    "Input the desired frequency for testing signal in the next cell.  "
   ]
  },
  {
   "cell_type": "code",
   "execution_count": null,
   "metadata": {
    "collapsed": true
   },
   "outputs": [],
   "source": [
    "f =2000  # Hz, fill the number 2000 here and excute this cell "
   ]
  },
  {
   "cell_type": "code",
   "execution_count": null,
   "metadata": {
    "collapsed": false
   },
   "outputs": [],
   "source": [
    "f_t = create_sinusoid(f,fs_high)\n",
    "f_nT = sampling(f_t)\n",
    "y_nT = f_nT\n",
    "figure(figsize=(16,8))\n",
    "subplot(2,2,1)\n",
    "time_domain_display_plot(f_t)\n",
    "title(\"High sampling rate signal $f(t)$ vs Time (ms)\")\n",
    "subplot(2,2,2)\n",
    "time_domain_display_stem(f_nT)\n",
    "title(\"Sampled input signal $f(nt)$ vs Time (ms)\")\n",
    "subplot(2,2,3)\n",
    "time_domain_display_stem(y_nT)\n",
    "title(\"Sampled output signal $y(nT)$ vs Time (ms)\")\n",
    "subplot(2,2,4) \n",
    "freq_domain_display(f_nT)\n",
    "tight_layout()"
   ]
  },
  {
   "cell_type": "markdown",
   "metadata": {},
   "source": [
    "### 1.1 Describe what you see in time domain of the sampled input signal (top right plot)"
   ]
  },
  {
   "cell_type": "markdown",
   "metadata": {},
   "source": [
    "### 1.2 Describe what you see in frequency domain of the ouput (bottom right plot)"
   ]
  },
  {
   "cell_type": "markdown",
   "metadata": {},
   "source": [
    "Try different input frequency from 2 kHz to 20 kHz. To do this, input the desired frequency in the next cell and excute the next two cells to see the updated plots. You may have to repeat this process multiple times in order to observe different frequency. "
   ]
  },
  {
   "cell_type": "code",
   "execution_count": null,
   "metadata": {
    "collapsed": true
   },
   "outputs": [],
   "source": [
    "f =   # Hz "
   ]
  },
  {
   "cell_type": "code",
   "execution_count": null,
   "metadata": {
    "collapsed": true
   },
   "outputs": [],
   "source": [
    "f_t = create_sinusoid(f,fs_high)\n",
    "f_nT = sampling(f_t)\n",
    "y_nT = f_nT\n",
    "figure(figsize=(16,8))\n",
    "subplot(2,2,1)\n",
    "time_domain_display_plot(f_t)\n",
    "title(\"High sampling rate signal $f(t)$ vs Time (ms)\")\n",
    "subplot(2,2,2)\n",
    "time_domain_display_stem(f_nT)\n",
    "title(\"Sampled input signal $f(nt)$ vs Time (ms)\")\n",
    "subplot(2,2,3)\n",
    "time_domain_display_stem(y_nT)\n",
    "title(\"Sampled output signal $y(nT)$ vs Time (ms)\")\n",
    "subplot(2,2,4) \n",
    "freq_domain_display(f_nT)\n",
    "tight_layout()"
   ]
  },
  {
   "cell_type": "markdown",
   "metadata": {},
   "source": [
    "### 1.3 Does the output $y(nT)$ resemble the input signal $f(t)$ ? If not, then explain the difference. "
   ]
  },
  {
   "cell_type": "markdown",
   "metadata": {},
   "source": [
    "Now try different frequency from 20 kHz to 24 kHz but including 22.05 kHz"
   ]
  },
  {
   "cell_type": "code",
   "execution_count": null,
   "metadata": {
    "collapsed": false
   },
   "outputs": [],
   "source": [
    "f =   # Hz "
   ]
  },
  {
   "cell_type": "code",
   "execution_count": null,
   "metadata": {
    "collapsed": true
   },
   "outputs": [],
   "source": [
    "f_t = create_sinusoid(f,fs_high)\n",
    "f_nT = sampling(f_t)\n",
    "y_nT = f_nT\n",
    "figure(figsize=(16,8))\n",
    "subplot(2,2,1)\n",
    "time_domain_display_plot(f_t)\n",
    "title(\"High sampling rate signal $f(t)$ vs Time (ms)\")\n",
    "subplot(2,2,2)\n",
    "time_domain_display_stem(f_nT)\n",
    "title(\"Sampled input signal $f(nt)$ vs Time (ms)\")\n",
    "subplot(2,2,3)\n",
    "time_domain_display_stem(y_nT)\n",
    "title(\"Sampled output signal $y(nT)$ vs Time (ms)\")\n",
    "subplot(2,2,4) \n",
    "freq_domain_display(f_nT)\n",
    "tight_layout()"
   ]
  },
  {
   "cell_type": "markdown",
   "metadata": {},
   "source": [
    "### 1.4 Describe what happens to the output signal in the time and frequency domain "
   ]
  },
  {
   "cell_type": "markdown",
   "metadata": {},
   "source": [
    "### 1.5 At 24 kHz, does the output $y(nT)$ resemble the input signal $f(t)$ or do we have an aliased component ? "
   ]
  },
  {
   "cell_type": "markdown",
   "metadata": {},
   "source": [
    "### 1.6 What is the significance of the frequency 22.05 kHz ? Remember the sampling rate is 44100 Hz."
   ]
  },
  {
   "cell_type": "markdown",
   "metadata": {},
   "source": [
    "### 1.7 Finally increase the input frequency from 24 to 30 kHz. What do you observe ? Explain what is happening. "
   ]
  },
  {
   "cell_type": "markdown",
   "metadata": {},
   "source": [
    "# 2. Digital Filtering"
   ]
  },
  {
   "cell_type": "markdown",
   "metadata": {},
   "source": [
    "In this section, you will examine the digital fitler option of the given system."
   ]
  },
  {
   "cell_type": "markdown",
   "metadata": {},
   "source": [
    "To apply a IF band pass filter, let's first create a band pass filter and you may observe its frequency response using fucntion lab5.freq_response(), which is provided in the cells below. The default cutoff frequencies are 6 kHz and 9 kHz, feel free to change the parameters fc_low and fc_high to see different frequency response."
   ]
  },
  {
   "cell_type": "code",
   "execution_count": null,
   "metadata": {
    "collapsed": false
   },
   "outputs": [],
   "source": [
    "fc_low = 6*1000 \n",
    "fc_high = 9*1000 \n",
    "taps = create_bandpass_filter(fc_low,fc_high)"
   ]
  },
  {
   "cell_type": "code",
   "execution_count": null,
   "metadata": {
    "collapsed": false
   },
   "outputs": [],
   "source": [
    "freq_response(taps)"
   ]
  },
  {
   "cell_type": "markdown",
   "metadata": {},
   "source": [
    "Now let's create a 1.5 kHz square wave and use the band pass filter created above as the System. "
   ]
  },
  {
   "cell_type": "code",
   "execution_count": null,
   "metadata": {
    "collapsed": false
   },
   "outputs": [],
   "source": [
    "f =1500  # Hz,\n",
    "f_t = create_square(f,fs_high)\n",
    "f_nT = sampling(f_t)\n",
    "y_nT = lfilter(taps,1,f_nT)\n",
    "figure(figsize=(16,8))\n",
    "subplot(3,2,1)\n",
    "time_domain_display_plot(f_t)\n",
    "title(\"High sampling rate signal $f(t)$ vs Time (ms)\")\n",
    "subplot(3,2,2)\n",
    "freq_response(taps)\n",
    "subplot(3,2,3)\n",
    "time_domain_display_stem(f_nT)\n",
    "title(\"Sampled input signal $f(nt)$ vs Time (ms)\")\n",
    "subplot(3,2,4) \n",
    "freq_domain_display(f_nT)\n",
    "title(\"Input Fourier transform vs Frequency (kHz)\")\n",
    "subplot(3,2,5)\n",
    "time_domain_display_stem(y_nT)\n",
    "title(\"Sampled output signal $y(nT)$ vs Time (ms)\")\n",
    "subplot(3,2,6) \n",
    "freq_domain_display(y_nT)\n",
    "title(\"Output Fourier transform vs Frequency (kHz)\")\n",
    "tight_layout()"
   ]
  },
  {
   "cell_type": "markdown",
   "metadata": {},
   "source": [
    "### 2.1 What is the frequency of the output $y(t)$ ? "
   ]
  },
  {
   "cell_type": "markdown",
   "metadata": {},
   "source": [
    "### 2.2 Explain why do you have such output, when the input is a 1.5 kHz square wave. (Hint: Having in mind the analysis of the perodic square wave done in lab 3, recall that the input signal should consist on decreasing odd harmonics of the fundamental frequency.)"
   ]
  },
  {
   "cell_type": "markdown",
   "metadata": {},
   "source": [
    "Now let's examine a square wave with frequency of 13 kHz without any filtering (No processing for the System)"
   ]
  },
  {
   "cell_type": "code",
   "execution_count": null,
   "metadata": {
    "collapsed": false
   },
   "outputs": [],
   "source": [
    "f = 13000 # Hz\n",
    "f_t = create_square(f,fs_high)\n",
    "f_nT = sampling(f_t)\n",
    "y_nT = f_nT\n",
    "figure(figsize=(16,8))\n",
    "subplot(2,2,1)\n",
    "time_domain_display_plot(f_t)\n",
    "title(\"High sampling rate signal $f(t)$ vs Time (ms)\")\n",
    "subplot(2,2,2)\n",
    "time_domain_display_stem(f_nT)\n",
    "title(\"Sampled input signal $f(nt)$ vs Time (ms)\")\n",
    "subplot(2,2,3)\n",
    "time_domain_display_stem(y_nT)\n",
    "title(\"Sampled output signal $y(nT)$ vs Time (ms)\")\n",
    "subplot(2,2,4) \n",
    "freq_domain_display(f_nT)\n",
    "tight_layout()"
   ]
  },
  {
   "cell_type": "markdown",
   "metadata": {},
   "source": [
    "### 2.3 Explain why the second largest frequency component is around 5 kHz."
   ]
  },
  {
   "cell_type": "markdown",
   "metadata": {},
   "source": [
    "# 3. Receiving Synthetic AM"
   ]
  },
  {
   "cell_type": "markdown",
   "metadata": {},
   "source": [
    "Now let's examine the synthetic AM signal. First let's create AM signal using the utility function and observe its Fourier transform after sampling. The System is set to be \"No processing\"  "
   ]
  },
  {
   "cell_type": "code",
   "execution_count": null,
   "metadata": {
    "collapsed": false
   },
   "outputs": [],
   "source": [
    "f_c = 13000 # Hz\n",
    "f_m = 880\n",
    "f_t = create_AM(f_c,f_m)\n",
    "f_nT = sampling(f_t)\n",
    "y_nT = f_nT\n",
    "figure(figsize=(16,8))\n",
    "subplot(2,2,1)\n",
    "time_domain_display_plot(f_t)\n",
    "title(\"High sampling rate signal $f(t)$ vs Time (ms)\")\n",
    "subplot(2,2,2)\n",
    "time_domain_display_stem(f_nT)\n",
    "title(\"Sampled input signal $f(nt)$ vs Time (ms)\")\n",
    "subplot(2,2,3)\n",
    "time_domain_display_stem(y_nT)\n",
    "title(\"Sampled output signal $y(nT)$ vs Time (ms)\")\n",
    "subplot(2,2,4) \n",
    "freq_domain_display(f_nT)\n",
    "tight_layout()"
   ]
  },
  {
   "cell_type": "markdown",
   "metadata": {},
   "source": [
    "### 3.1 What does the strong impulse at $f=13$ kHz represent in this AM signal. "
   ]
  },
  {
   "cell_type": "markdown",
   "metadata": {},
   "source": [
    "### 3.2 At what frequency locations are the other two impulses surrounding the 13 kHz impulse, and what do they represent ? "
   ]
  },
  {
   "cell_type": "markdown",
   "metadata": {},
   "source": [
    "Recall in lab 3, we built a band pass and filter using capacitor and resistors. This time we will implement the same band pass filter in digital domain with cutoff frequencies of 8 kHz and 18 kHz. "
   ]
  },
  {
   "cell_type": "code",
   "execution_count": null,
   "metadata": {
    "collapsed": false
   },
   "outputs": [],
   "source": [
    "fc_low = 8*1000 \n",
    "fc_high = 18*1000 \n",
    "taps = create_bandpass_filter(fc_low,fc_high)"
   ]
  },
  {
   "cell_type": "code",
   "execution_count": null,
   "metadata": {
    "collapsed": false
   },
   "outputs": [],
   "source": [
    "freq_response(taps)"
   ]
  },
  {
   "cell_type": "markdown",
   "metadata": {},
   "source": [
    "### 3.3 Compare the frequency response of the digital band pass filter with the frequency response of the analog band pass filter built in lab 3, which one is considered a better filter and why ? "
   ]
  },
  {
   "cell_type": "markdown",
   "metadata": {},
   "source": [
    "Now let's apply this band pass filter to the synthetic AM signal."
   ]
  },
  {
   "cell_type": "code",
   "execution_count": null,
   "metadata": {
    "collapsed": false
   },
   "outputs": [],
   "source": [
    "f_nT = sampling(f_t)\n",
    "y_nT = lfilter(taps,1,f_nT)\n",
    "figure(figsize=(16,8))\n",
    "subplot(3,2,1)\n",
    "time_domain_display_plot(f_t)\n",
    "title(\"High sampling rate signal $f(t)$ vs Time (ms)\")\n",
    "subplot(3,2,2)\n",
    "freq_response(taps)\n",
    "subplot(3,2,3)\n",
    "time_domain_display_stem(f_nT)\n",
    "title(\"Sampled input signal $f(nt)$ vs Time (ms)\")\n",
    "subplot(3,2,4) \n",
    "freq_domain_display(f_nT)\n",
    "title(\"Input Fourier transform vs Frequency (kHz)\")\n",
    "subplot(3,2,5)\n",
    "time_domain_display_stem(y_nT)\n",
    "title(\"Sampled output signal $y(nT)$ vs Time (ms)\")\n",
    "subplot(3,2,6) \n",
    "freq_domain_display(y_nT)\n",
    "title(\"Output Fourier transform vs Frequency (kHz)\")\n",
    "tight_layout()"
   ]
  },
  {
   "cell_type": "markdown",
   "metadata": {},
   "source": [
    "Not surprising, the output is almost the same as the input because the major frequency components pass through the filter without much changing. However, this filter would be much useful for a broader bandwidth signal as you may see in the next section. "
   ]
  },
  {
   "cell_type": "markdown",
   "metadata": {},
   "source": [
    "Now let's observe the output of a envelope detector after the band pass fitler. The System now is a combination of band pass filter and envelope detector."
   ]
  },
  {
   "cell_type": "code",
   "execution_count": null,
   "metadata": {
    "collapsed": false
   },
   "outputs": [],
   "source": [
    "f_nT = sampling(f_t)\n",
    "filtered_signal = lfilter(taps,1,f_nT)\n",
    "y_nT = Envelope_Detector(filtered_signal)\n",
    "\n",
    "figure(figsize=(16,8))\n",
    "subplot(3,2,1)\n",
    "time_domain_display_plot(f_t)\n",
    "title(\"High sampling rate signal $f(t)$ vs Time (ms)\")\n",
    "subplot(3,2,2)\n",
    "freq_response(taps)\n",
    "subplot(3,2,3)\n",
    "time_domain_display_stem(f_nT)\n",
    "title(\"Sampled input signal $f(nt)$ vs Time (ms)\")\n",
    "subplot(3,2,4) \n",
    "freq_domain_display(f_nT)\n",
    "title(\"Input Fourier transform vs Frequency (kHz)\")\n",
    "subplot(3,2,5)\n",
    "time_domain_display_stem(y_nT)\n",
    "title(\"Sampled output signal $y(nT)$ vs Time (ms)\")\n",
    "subplot(3,2,6) \n",
    "freq_domain_display(y_nT)\n",
    "title(\"Output Fourier transform vs Frequency (kHz)\")\n",
    "tight_layout()"
   ]
  },
  {
   "cell_type": "markdown",
   "metadata": {},
   "source": [
    "### 3.4 In the time domain, what type of signal is that. Describe it. And in the frequency domain, can you find the message signal ? "
   ]
  },
  {
   "cell_type": "markdown",
   "metadata": {},
   "source": [
    "Besides envelope detector, there is another type called coherent detector. A coherent detector works as follows. For a received signal of the form $m(t)\\cos(\\omega_c t+\\theta_0)$, the carrier frequency $\\omega_c$ and the pase delay $\\theta_0$ are estimated. THen a cosine signal with the same carrier frequency and phase delay is generated and mixed with the received signal, yielding $m(t)\\cos(\\omega_c t+\\theta_0)\\cos(\\omega_c t+\\theta_0)=m(t)\\cos^2(\\omega_c t+\\theta_0)=\\frac{1}{2}m(t)(1+\\cos(2\\omega_c t))$. Finally a lowpass filter is applied to filter out the $2\\omega_c$ modulated signal in order to obtain the message $m(t)$."
   ]
  },
  {
   "cell_type": "markdown",
   "metadata": {},
   "source": [
    "Now let's observe the output of a coherent detector after the band pass fitler. The System now is a combination of band pass filter and coherent detector."
   ]
  },
  {
   "cell_type": "code",
   "execution_count": null,
   "metadata": {
    "collapsed": false
   },
   "outputs": [],
   "source": [
    "f_nT = sampling(f_t)\n",
    "filtered_signal = lfilter(taps,1,f_nT)\n",
    "y_nT = Coherent_Detector(filtered_signal)\n",
    "\n",
    "figure(figsize=(16,8))\n",
    "subplot(3,2,1)\n",
    "time_domain_display_plot(f_t)\n",
    "title(\"High sampling rate signal $f(t)$ vs Time (ms)\")\n",
    "subplot(3,2,2)\n",
    "freq_response(taps)\n",
    "subplot(3,2,3)\n",
    "time_domain_display_stem(f_nT)\n",
    "title(\"Sampled input signal $f(nt)$ vs Time (ms)\")\n",
    "subplot(3,2,4) \n",
    "freq_domain_display(f_nT)\n",
    "title(\"Input Fourier transform vs Frequency (kHz)\")\n",
    "subplot(3,2,5)\n",
    "time_domain_display_stem(y_nT)\n",
    "title(\"Sampled output signal $y(nT)$ vs Time (ms)\")\n",
    "subplot(3,2,6) \n",
    "freq_domain_display(y_nT)\n",
    "title(\"Output Fourier transform vs Frequency (kHz)\")\n",
    "tight_layout()"
   ]
  },
  {
   "cell_type": "markdown",
   "metadata": {},
   "source": [
    "### 3.5 Overall, what does the envelope detector or the coherent detector accomplish ? "
   ]
  },
  {
   "cell_type": "markdown",
   "metadata": {},
   "source": [
    "# 4.Receiving recorded AM "
   ]
  },
  {
   "cell_type": "markdown",
   "metadata": {},
   "source": [
    "In this last section, you will process the recorded AM signal with our system and eventually listen to its detected version. "
   ]
  },
  {
   "cell_type": "markdown",
   "metadata": {},
   "source": [
    "Load the same recorded file as in lab 4, and we will apply the band pass fitler with cutoff frequencies of 10 kHz and 18 kHz. Note that the recorded file is already sampled so we will skip the sampling in the system diagram. "
   ]
  },
  {
   "cell_type": "code",
   "execution_count": null,
   "metadata": {
    "collapsed": false
   },
   "outputs": [],
   "source": [
    "file_path = \"audio_files/\"\n",
    "fs, wave_test = wavfile.read(file_path+'recorded_AM_1.wav')\n",
    "audio_signal = wave_test/2**16\n",
    "fc_low = 10*1000 \n",
    "fc_high = 18*1000 \n",
    "taps = create_bandpass_filter(fc_low,fc_high)"
   ]
  },
  {
   "cell_type": "code",
   "execution_count": null,
   "metadata": {
    "collapsed": false
   },
   "outputs": [],
   "source": [
    "freq_response(taps)"
   ]
  },
  {
   "cell_type": "markdown",
   "metadata": {},
   "source": [
    "Next we will examine our band pass filter on the sampled AM signal. Note that to examine the subtle difference, we use dB for the magnitude display in spectrum. "
   ]
  },
  {
   "cell_type": "code",
   "execution_count": null,
   "metadata": {
    "collapsed": false
   },
   "outputs": [],
   "source": [
    "f_nT = audio_signal\n",
    "filtered_signal = lfilter(taps,1,f_nT)\n",
    "y_nT = filtered_signal\n",
    "figure(figsize=(16,8))\n",
    "subplot(3,2,2)\n",
    "freq_response(taps)\n",
    "subplot(3,2,3)\n",
    "time_domain_display_stem(f_nT)\n",
    "title(\"Sampled input signal $f(nt)$ vs Time (ms)\")\n",
    "subplot(3,2,4) \n",
    "freq_domain_display(f_nT,unit=\"dB\")\n",
    "title(\"Input Fourier transform vs Frequency (kHz)\")\n",
    "subplot(3,2,5)\n",
    "time_domain_display_stem(y_nT)\n",
    "title(\"Sampled output signal $y(nT)$ vs Time (ms)\")\n",
    "subplot(3,2,6) \n",
    "freq_domain_display(y_nT,unit=\"dB\")\n",
    "title(\"Output Fourier transform vs Frequency (kHz)\")\n",
    "tight_layout()"
   ]
  },
  {
   "cell_type": "markdown",
   "metadata": {},
   "source": [
    "### 4.1 In the spectrum of input, what is the frequency of the peak and what does it represent ? "
   ]
  },
  {
   "cell_type": "markdown",
   "metadata": {},
   "source": [
    "### 4.2 Approximately what is the bandwidth of the output signal ? Does it align with the frequency response of the band pass filter ? "
   ]
  },
  {
   "cell_type": "markdown",
   "metadata": {},
   "source": [
    "Now let's add envelope detector to the system."
   ]
  },
  {
   "cell_type": "code",
   "execution_count": null,
   "metadata": {
    "collapsed": false
   },
   "outputs": [],
   "source": [
    "f_nT = audio_signal\n",
    "filtered_signal = lfilter(taps,1,f_nT)\n",
    "y_nT = Envelope_Detector(filtered_signal)\n",
    "figure(figsize=(16,8))\n",
    "subplot(3,2,2)\n",
    "freq_response(taps)\n",
    "subplot(3,2,3)\n",
    "time_domain_display_stem(f_nT)\n",
    "title(\"Sampled input signal $f(nt)$ vs Time (ms)\")\n",
    "subplot(3,2,4) \n",
    "freq_domain_display(f_nT,unit=\"dB\")\n",
    "title(\"Input Fourier transform vs Frequency (kHz)\")\n",
    "subplot(3,2,5)\n",
    "time_domain_display_stem(y_nT)\n",
    "title(\"Sampled output signal $y(nT)$ vs Time (ms)\")\n",
    "subplot(3,2,6) \n",
    "freq_domain_display(y_nT,unit=\"dB\")\n",
    "title(\"Output Fourier transform vs Frequency (kHz)\")\n",
    "tight_layout()"
   ]
  },
  {
   "cell_type": "markdown",
   "metadata": {
    "collapsed": true
   },
   "source": [
    "You may varify the result above by listening to the output signal. To do that, you may use the next cell to write the output signal into .wav file and then download it and play at your local computer. "
   ]
  },
  {
   "cell_type": "code",
   "execution_count": null,
   "metadata": {
    "collapsed": false
   },
   "outputs": [],
   "source": [
    "wavfile.write(\"demodulated_signal.wav\", fs, y_nT)"
   ]
  },
  {
   "cell_type": "markdown",
   "metadata": {},
   "source": [
    "### 4.3 Did you successfully demodulate the AM signal ? How was it compare to the one you did with circuit ?  Explain the advantage of digital filter. "
   ]
  }
 ],
 "metadata": {
  "kernelspec": {
   "display_name": "Python 3",
   "language": "python",
   "name": "python3"
  },
  "language_info": {
   "codemirror_mode": {
    "name": "ipython",
    "version": 3
   },
   "file_extension": ".py",
   "mimetype": "text/x-python",
   "name": "python",
   "nbconvert_exporter": "python",
   "pygments_lexer": "ipython3",
   "version": "3.6.1"
  }
 },
 "nbformat": 4,
 "nbformat_minor": 0
}
